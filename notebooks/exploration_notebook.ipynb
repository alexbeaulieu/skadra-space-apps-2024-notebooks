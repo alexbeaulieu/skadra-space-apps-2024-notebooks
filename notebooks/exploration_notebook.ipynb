{
 "cells": [
  {
   "cell_type": "markdown",
   "metadata": {},
   "source": [
    "# Explore data from the Appolo Grade 12 and Mars"
   ]
  },
  {
   "cell_type": "code",
   "execution_count": 46,
   "metadata": {},
   "outputs": [],
   "source": [
    "# Import libraries\n",
    "import numpy as np\n",
    "import pandas as pd\n",
    "from obspy import read\n",
    "from datetime import datetime, timedelta\n",
    "import matplotlib.pyplot as plt\n",
    "import glob\n",
    "import os\n",
    "import re\n",
    "from tqdm import tqdm"
   ]
  },
  {
   "cell_type": "markdown",
   "metadata": {},
   "source": [
    "## Read labels"
   ]
  },
  {
   "cell_type": "code",
   "execution_count": 63,
   "metadata": {},
   "outputs": [],
   "source": [
    "# planet = \"lunar\"\n",
    "planet = \"lunar\"\n",
    "\n",
    "data_prefix = \"../data\"\n",
    "plot_prefix = \"../plots\"\n",
    "out_prefix = \"../out\""
   ]
  },
  {
   "cell_type": "code",
   "execution_count": 64,
   "metadata": {},
   "outputs": [],
   "source": [
    "if planet == \"lunar\":\n",
    "    catalog_directory = os.path.join(data_prefix, 'lunar/training/catalogs/')\n",
    "    catalog_file = catalog_directory + 'apollo12_catalog_GradeA_final.csv'\n",
    "elif planet == \"mars\": \n",
    "    catalog_directory = os.path.join(data_prefix, 'mars/training/catalogs/')\n",
    "    catalog_file = catalog_directory + 'Mars_InSight_training_catalog_final.csv'\n",
    "else:\n",
    "    raise RuntimeError(\"Don't know this planet\")"
   ]
  },
  {
   "cell_type": "code",
   "execution_count": 65,
   "metadata": {},
   "outputs": [
    {
     "data": {
      "text/plain": [
       "{'impact_mq': 1, 'deep_mq': 2, 'shallow_mq': 3}"
      ]
     },
     "metadata": {},
     "output_type": "display_data"
    },
    {
     "data": {
      "text/html": [
       "<div>\n",
       "<style scoped>\n",
       "    .dataframe tbody tr th:only-of-type {\n",
       "        vertical-align: middle;\n",
       "    }\n",
       "\n",
       "    .dataframe tbody tr th {\n",
       "        vertical-align: top;\n",
       "    }\n",
       "\n",
       "    .dataframe thead th {\n",
       "        text-align: right;\n",
       "    }\n",
       "</style>\n",
       "<table border=\"1\" class=\"dataframe\">\n",
       "  <thead>\n",
       "    <tr style=\"text-align: right;\">\n",
       "      <th></th>\n",
       "      <th>filename</th>\n",
       "      <th>time_rel(sec)</th>\n",
       "      <th>evid</th>\n",
       "      <th>mq_type</th>\n",
       "      <th>mq_type_id</th>\n",
       "    </tr>\n",
       "    <tr>\n",
       "      <th>datetime</th>\n",
       "      <th></th>\n",
       "      <th></th>\n",
       "      <th></th>\n",
       "      <th></th>\n",
       "      <th></th>\n",
       "    </tr>\n",
       "  </thead>\n",
       "  <tbody>\n",
       "    <tr>\n",
       "      <th>1970-01-19 20:25:00</th>\n",
       "      <td>xa.s12.00.mhz.1970-01-19HR00_evid00002</td>\n",
       "      <td>73500.0</td>\n",
       "      <td>evid00002</td>\n",
       "      <td>impact_mq</td>\n",
       "      <td>1</td>\n",
       "    </tr>\n",
       "    <tr>\n",
       "      <th>1970-03-25 03:32:00</th>\n",
       "      <td>xa.s12.00.mhz.1970-03-25HR00_evid00003</td>\n",
       "      <td>12720.0</td>\n",
       "      <td>evid00003</td>\n",
       "      <td>impact_mq</td>\n",
       "      <td>1</td>\n",
       "    </tr>\n",
       "    <tr>\n",
       "      <th>1970-03-26 20:17:00</th>\n",
       "      <td>xa.s12.00.mhz.1970-03-26HR00_evid00004</td>\n",
       "      <td>73020.0</td>\n",
       "      <td>evid00004</td>\n",
       "      <td>impact_mq</td>\n",
       "      <td>1</td>\n",
       "    </tr>\n",
       "    <tr>\n",
       "      <th>1970-04-25 01:14:00</th>\n",
       "      <td>xa.s12.00.mhz.1970-04-25HR00_evid00006</td>\n",
       "      <td>4440.0</td>\n",
       "      <td>evid00006</td>\n",
       "      <td>impact_mq</td>\n",
       "      <td>1</td>\n",
       "    </tr>\n",
       "    <tr>\n",
       "      <th>1970-04-26 14:29:00</th>\n",
       "      <td>xa.s12.00.mhz.1970-04-26HR00_evid00007</td>\n",
       "      <td>52140.0</td>\n",
       "      <td>evid00007</td>\n",
       "      <td>deep_mq</td>\n",
       "      <td>2</td>\n",
       "    </tr>\n",
       "    <tr>\n",
       "      <th>...</th>\n",
       "      <td>...</td>\n",
       "      <td>...</td>\n",
       "      <td>...</td>\n",
       "      <td>...</td>\n",
       "      <td>...</td>\n",
       "    </tr>\n",
       "    <tr>\n",
       "      <th>1974-10-14 17:43:00</th>\n",
       "      <td>xa.s12.00.mhz.1974-10-14HR00_evid00156</td>\n",
       "      <td>63780.0</td>\n",
       "      <td>evid00156</td>\n",
       "      <td>impact_mq</td>\n",
       "      <td>1</td>\n",
       "    </tr>\n",
       "    <tr>\n",
       "      <th>1975-04-12 18:15:00</th>\n",
       "      <td>xa.s12.00.mhz.1975-04-12HR00_evid00191</td>\n",
       "      <td>65700.0</td>\n",
       "      <td>evid00191</td>\n",
       "      <td>impact_mq</td>\n",
       "      <td>1</td>\n",
       "    </tr>\n",
       "    <tr>\n",
       "      <th>1975-05-04 10:05:00</th>\n",
       "      <td>xa.s12.00.mhz.1975-05-04HR00_evid00192</td>\n",
       "      <td>36300.0</td>\n",
       "      <td>evid00192</td>\n",
       "      <td>impact_mq</td>\n",
       "      <td>1</td>\n",
       "    </tr>\n",
       "    <tr>\n",
       "      <th>1975-06-24 16:03:00</th>\n",
       "      <td>xa.s12.00.mhz.1975-06-24HR00_evid00196</td>\n",
       "      <td>57780.0</td>\n",
       "      <td>evid00196</td>\n",
       "      <td>impact_mq</td>\n",
       "      <td>1</td>\n",
       "    </tr>\n",
       "    <tr>\n",
       "      <th>1975-06-26 03:24:00</th>\n",
       "      <td>xa.s12.00.mhz.1975-06-26HR00_evid00198</td>\n",
       "      <td>12240.0</td>\n",
       "      <td>evid00198</td>\n",
       "      <td>impact_mq</td>\n",
       "      <td>1</td>\n",
       "    </tr>\n",
       "  </tbody>\n",
       "</table>\n",
       "<p>76 rows × 5 columns</p>\n",
       "</div>"
      ],
      "text/plain": [
       "                                                   filename  time_rel(sec)  \\\n",
       "datetime                                                                     \n",
       "1970-01-19 20:25:00  xa.s12.00.mhz.1970-01-19HR00_evid00002        73500.0   \n",
       "1970-03-25 03:32:00  xa.s12.00.mhz.1970-03-25HR00_evid00003        12720.0   \n",
       "1970-03-26 20:17:00  xa.s12.00.mhz.1970-03-26HR00_evid00004        73020.0   \n",
       "1970-04-25 01:14:00  xa.s12.00.mhz.1970-04-25HR00_evid00006         4440.0   \n",
       "1970-04-26 14:29:00  xa.s12.00.mhz.1970-04-26HR00_evid00007        52140.0   \n",
       "...                                                     ...            ...   \n",
       "1974-10-14 17:43:00  xa.s12.00.mhz.1974-10-14HR00_evid00156        63780.0   \n",
       "1975-04-12 18:15:00  xa.s12.00.mhz.1975-04-12HR00_evid00191        65700.0   \n",
       "1975-05-04 10:05:00  xa.s12.00.mhz.1975-05-04HR00_evid00192        36300.0   \n",
       "1975-06-24 16:03:00  xa.s12.00.mhz.1975-06-24HR00_evid00196        57780.0   \n",
       "1975-06-26 03:24:00  xa.s12.00.mhz.1975-06-26HR00_evid00198        12240.0   \n",
       "\n",
       "                          evid    mq_type  mq_type_id  \n",
       "datetime                                               \n",
       "1970-01-19 20:25:00  evid00002  impact_mq           1  \n",
       "1970-03-25 03:32:00  evid00003  impact_mq           1  \n",
       "1970-03-26 20:17:00  evid00004  impact_mq           1  \n",
       "1970-04-25 01:14:00  evid00006  impact_mq           1  \n",
       "1970-04-26 14:29:00  evid00007    deep_mq           2  \n",
       "...                        ...        ...         ...  \n",
       "1974-10-14 17:43:00  evid00156  impact_mq           1  \n",
       "1975-04-12 18:15:00  evid00191  impact_mq           1  \n",
       "1975-05-04 10:05:00  evid00192  impact_mq           1  \n",
       "1975-06-24 16:03:00  evid00196  impact_mq           1  \n",
       "1975-06-26 03:24:00  evid00198  impact_mq           1  \n",
       "\n",
       "[76 rows x 5 columns]"
      ]
     },
     "execution_count": 65,
     "metadata": {},
     "output_type": "execute_result"
    }
   ],
   "source": [
    "\n",
    "labels = pd.read_csv(catalog_file, parse_dates=['time_abs(%Y-%m-%dT%H:%M:%S.%f)'])\n",
    "labels.rename(columns={\"time_abs(%Y-%m-%dT%H:%M:%S.%f)\":\"datetime\"}, inplace=True)\n",
    "labels.set_index(\"datetime\", inplace=True)\n",
    "\n",
    "# In the case of mars data, we don't have any mq_type\n",
    "try:\n",
    "    mq_type_dict = {l:i+1 for i,l in enumerate(labels[\"mq_type\"].unique())}\n",
    "    display(mq_type_dict)\n",
    "    labels[\"mq_type_id\"] = labels[\"mq_type\"].map(mq_type_dict)\n",
    "except KeyError:\n",
    "    labels[\"mq_type_id\"] = 1\n",
    "labels"
   ]
  },
  {
   "cell_type": "markdown",
   "metadata": {},
   "source": [
    "## Read data"
   ]
  },
  {
   "cell_type": "code",
   "execution_count": 50,
   "metadata": {},
   "outputs": [
    {
     "data": {
      "text/plain": [
       "'mars'"
      ]
     },
     "execution_count": 50,
     "metadata": {},
     "output_type": "execute_result"
    }
   ],
   "source": [
    "planet"
   ]
  },
  {
   "cell_type": "code",
   "execution_count": 51,
   "metadata": {},
   "outputs": [
    {
     "name": "stdout",
     "output_type": "stream",
     "text": [
      "..\\data\\mars\\training\\data\n",
      "Available dates:\n",
      "['2022-01-02', '2022-02-03']\n",
      "2 elements\n"
     ]
    }
   ],
   "source": [
    "data_directory = os.path.normpath(os.path.join(data_prefix, planet,'training/data'))\n",
    "print(data_directory)\n",
    "files  =  glob.glob(data_directory+\"/**/*.csv\", recursive=True)\n",
    "dates = [re.search(\"\\d{4}-\\d{2}-\\d{2}\", file)[0] for file in files]\n",
    "\n",
    "print(\"Available dates:\")\n",
    "print(dates)\n",
    "print(f\"{len(dates)} elements\")"
   ]
  },
  {
   "cell_type": "code",
   "execution_count": 52,
   "metadata": {},
   "outputs": [
    {
     "data": {
      "text/plain": [
       "'..\\\\data\\\\mars\\\\training\\\\data\\\\XB.ELYSE.02.BHV.2022-01-02HR04_evid0006.csv'"
      ]
     },
     "execution_count": 52,
     "metadata": {},
     "output_type": "execute_result"
    }
   ],
   "source": [
    "i_file = 0\n",
    "files[i_file]\n",
    "\n",
    "file = files[i_file]\n",
    "file"
   ]
  },
  {
   "cell_type": "code",
   "execution_count": 53,
   "metadata": {},
   "outputs": [],
   "source": [
    "def load_data(file, planet):\n",
    "    date_col_dict = {\"lunar\": \"time_abs(%Y-%m-%dT%H:%M:%S.%f)\", \n",
    "                     \"mars\": \"time(%Y-%m-%dT%H:%M:%S.%f)\"}\n",
    "    \n",
    "    vel_col_dict = {\"lunar\": \"velocity(m/s)\", \n",
    "                     \"mars\": \"velocity(c/s)\"}\n",
    "    \n",
    "    data = pd.read_csv(file, parse_dates=[date_col_dict[planet]])\n",
    "    data.rename(columns={date_col_dict[planet]:\"datetime\"}, inplace=True)\n",
    "    data.rename(columns={vel_col_dict[planet]:\"velocity\"}, inplace=True)\n",
    "    data.set_index(\"datetime\", inplace=True)\n",
    "    mask = (labels.index > data.index[0]) & (labels.index <= data.index[-1])\n",
    "    data = data.join(labels.loc[mask, \"mq_type_id\"], how=\"outer\")\n",
    "\n",
    "    return data.loc[:, [\"velocity\", \"mq_type_id\"]]"
   ]
  },
  {
   "cell_type": "markdown",
   "metadata": {},
   "source": [
    "### Export all dataframes"
   ]
  },
  {
   "cell_type": "code",
   "execution_count": 54,
   "metadata": {},
   "outputs": [
    {
     "name": "stderr",
     "output_type": "stream",
     "text": [
      "Writing XB.ELYSE.02.BHV.2022-02-03HR08_evid0005.parquet: 100%|██████████| 2/2 [00:00<00:00, 10.50files/s]\n"
     ]
    }
   ],
   "source": [
    "out_path = os.path.join(out_prefix, planet)\n",
    "os.makedirs(out_path, exist_ok=True)\n",
    "\n",
    "for file in (pbar := tqdm(files, unit=\"files\")):\n",
    "    sample_name = os.path.split(file)[1] \n",
    "\n",
    "    data = load_data(file, planet)\n",
    "\n",
    "    out_file = os.path.split(file.replace(data_prefix, out_prefix).replace(\".csv\", \".parquet\"))[1]\n",
    "    pbar.set_description(f\"Writing {out_file}\")   \n",
    "    data.to_parquet(os.path.join(out_path, out_file))\n",
    "    "
   ]
  },
  {
   "cell_type": "markdown",
   "metadata": {},
   "source": [
    "## Load all data (as an example and also to measure)"
   ]
  },
  {
   "cell_type": "code",
   "execution_count": 55,
   "metadata": {},
   "outputs": [
    {
     "name": "stderr",
     "output_type": "stream",
     "text": [
      "100%|██████████| 2/2 [00:00<00:00, 221.85files/s]\n"
     ]
    }
   ],
   "source": [
    "for file in (pbar := tqdm(files, unit=\"files\")):\n",
    "    \n",
    "    out_file = os.path.split(file.replace(data_prefix, out_prefix).replace(\".csv\", \".parquet\"))[1]\n",
    "    pd.read_parquet(os.path.join(out_path, out_file))"
   ]
  },
  {
   "cell_type": "code",
   "execution_count": 61,
   "metadata": {},
   "outputs": [
    {
     "data": {
      "text/html": [
       "<div>\n",
       "<style scoped>\n",
       "    .dataframe tbody tr th:only-of-type {\n",
       "        vertical-align: middle;\n",
       "    }\n",
       "\n",
       "    .dataframe tbody tr th {\n",
       "        vertical-align: top;\n",
       "    }\n",
       "\n",
       "    .dataframe thead th {\n",
       "        text-align: right;\n",
       "    }\n",
       "</style>\n",
       "<table border=\"1\" class=\"dataframe\">\n",
       "  <thead>\n",
       "    <tr style=\"text-align: right;\">\n",
       "      <th></th>\n",
       "      <th>velocity</th>\n",
       "      <th>mq_type_id</th>\n",
       "    </tr>\n",
       "  </thead>\n",
       "  <tbody>\n",
       "    <tr>\n",
       "      <th>count</th>\n",
       "      <td>5.724150e+05</td>\n",
       "      <td>1.0</td>\n",
       "    </tr>\n",
       "    <tr>\n",
       "      <th>mean</th>\n",
       "      <td>-8.443134e-13</td>\n",
       "      <td>1.0</td>\n",
       "    </tr>\n",
       "    <tr>\n",
       "      <th>std</th>\n",
       "      <td>3.530059e-10</td>\n",
       "      <td>NaN</td>\n",
       "    </tr>\n",
       "    <tr>\n",
       "      <th>min</th>\n",
       "      <td>-8.185283e-09</td>\n",
       "      <td>1.0</td>\n",
       "    </tr>\n",
       "    <tr>\n",
       "      <th>25%</th>\n",
       "      <td>-5.504830e-11</td>\n",
       "      <td>1.0</td>\n",
       "    </tr>\n",
       "    <tr>\n",
       "      <th>50%</th>\n",
       "      <td>-1.633815e-17</td>\n",
       "      <td>1.0</td>\n",
       "    </tr>\n",
       "    <tr>\n",
       "      <th>75%</th>\n",
       "      <td>5.443508e-11</td>\n",
       "      <td>1.0</td>\n",
       "    </tr>\n",
       "    <tr>\n",
       "      <th>max</th>\n",
       "      <td>7.874026e-09</td>\n",
       "      <td>1.0</td>\n",
       "    </tr>\n",
       "  </tbody>\n",
       "</table>\n",
       "</div>"
      ],
      "text/plain": [
       "           velocity  mq_type_id\n",
       "count  5.724150e+05         1.0\n",
       "mean  -8.443134e-13         1.0\n",
       "std    3.530059e-10         NaN\n",
       "min   -8.185283e-09         1.0\n",
       "25%   -5.504830e-11         1.0\n",
       "50%   -1.633815e-17         1.0\n",
       "75%    5.443508e-11         1.0\n",
       "max    7.874026e-09         1.0"
      ]
     },
     "execution_count": 61,
     "metadata": {},
     "output_type": "execute_result"
    }
   ],
   "source": [
    "file = \"../out/lunar/xa.s12.00.mhz.1970-01-19HR00_evid00002.parquet\"\n",
    "data = pd.read_parquet(file)\n",
    "data.describe()\n"
   ]
  },
  {
   "cell_type": "markdown",
   "metadata": {},
   "source": [
    "### Plots"
   ]
  },
  {
   "cell_type": "code",
   "execution_count": 56,
   "metadata": {},
   "outputs": [
    {
     "name": "stderr",
     "output_type": "stream",
     "text": [
      "100%|██████████| 2/2 [00:00<00:00,  3.14files/s]\n"
     ]
    }
   ],
   "source": [
    "plot_path = os.path.join(plot_prefix, planet)\n",
    "os.makedirs(plot_path, exist_ok=True)\n",
    "\n",
    "c_dict = {1:\"red\", \n",
    "          2:\"orange\",\n",
    "          3:\"black\"}\n",
    "\n",
    "for file in tqdm(files, unit=\"files\"):\n",
    "    sample_name = os.path.split(file)[1] \n",
    "\n",
    "    data = load_data(file, planet)\n",
    "\n",
    "    fig, ax = plt.subplots(figsize=(16, 5))\n",
    "\n",
    "    data[\"quakes\"] = data[\"velocity\"].max()*data[\"mq_type_id\"]\n",
    "\n",
    "    data.plot(y=[\"velocity\"], ax=ax, ylabel=\"Velocity\", title=os.path.splitext(sample_name)[0])\n",
    "\n",
    "    qtimes = data[\"mq_type_id\"].dropna().index\n",
    "    qtypes = data[\"mq_type_id\"].dropna().values\n",
    "    for qtime, qtype in zip(qtimes, qtypes):\n",
    "        ax.axvline(x=qtime, c=c_dict[qtype])\n",
    "\n",
    "    plot_file = os.path.split(file.replace(data_prefix, plot_prefix).replace(\".csv\", \".png\"))[1]    \n",
    "    fig.savefig(os.path.join(plot_path, plot_file), bbox_inches=\"tight\")\n",
    "    plt.close(fig)"
   ]
  },
  {
   "cell_type": "code",
   "execution_count": null,
   "metadata": {},
   "outputs": [],
   "source": []
  },
  {
   "cell_type": "code",
   "execution_count": 57,
   "metadata": {},
   "outputs": [
    {
     "ename": "SyntaxError",
     "evalue": "invalid syntax (1430814128.py, line 2)",
     "output_type": "error",
     "traceback": [
      "\u001b[1;36m  Cell \u001b[1;32mIn[57], line 2\u001b[1;36m\u001b[0m\n\u001b[1;33m    do stuff with data and fc\u001b[0m\n\u001b[1;37m       ^\u001b[0m\n\u001b[1;31mSyntaxError\u001b[0m\u001b[1;31m:\u001b[0m invalid syntax\n"
     ]
    }
   ],
   "source": [
    "def clean_A(dataframe, fc):\n",
    "    do stuff with data and fc\n",
    "\n",
    "    return data\n",
    "\n",
    "\n",
    "def clean_B(dataframe, fc1, fc2):\n",
    "\n",
    "    do other stuff with data and fc1 and fc2\n",
    "\n",
    "    return data\n",
    "\n",
    "\n",
    "def clean_B(dataframe, params):\n",
    "\n",
    "    do other stuff with data and fc1 and fc2\n",
    "\n",
    "    return data\n"
   ]
  }
 ],
 "metadata": {
  "kernelspec": {
   "display_name": "Python 3",
   "language": "python",
   "name": "python3"
  },
  "language_info": {
   "codemirror_mode": {
    "name": "ipython",
    "version": 3
   },
   "file_extension": ".py",
   "mimetype": "text/x-python",
   "name": "python",
   "nbconvert_exporter": "python",
   "pygments_lexer": "ipython3",
   "version": "3.11.0"
  }
 },
 "nbformat": 4,
 "nbformat_minor": 2
}
