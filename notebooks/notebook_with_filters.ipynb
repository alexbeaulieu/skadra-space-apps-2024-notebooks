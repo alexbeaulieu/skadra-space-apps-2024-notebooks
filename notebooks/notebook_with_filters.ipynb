{
 "cells": [
  {
   "cell_type": "markdown",
   "metadata": {},
   "source": [
    "# Explore data from the Appolo Grade 12 and Mars\n",
    "\n",
    "\n",
    "This notebook is used to read all input data files, provide standardized Parquet files that will be used by the webapp.\n",
    "\n",
    "This also serves as a standard definition should we decide to implement data from other sources such as Earth.\n",
    "\n",
    "For this notebook to work, provided data should be in a directory `data` in the rootdir of this repo:\n",
    "\n",
    "```text\n",
    "project\n",
    "│   README.md\n",
    "│   space-apps-2024.yaml   \n",
    "└───data (not commited)\n",
    "│   └─lunar\n",
    "│   │ └─test\n",
    "│   │ └─training\n",
    "│   │\n",
    "│   └─mars\n",
    "│     └─test\n",
    "│     └─ (...)\n",
    "└───out (created by this notebook)\n",
    "└───plots (created by this notebook)\n",
    "\n",
    "\n",
    "```"
   ]
  },
  {
   "cell_type": "code",
   "execution_count": 596,
   "metadata": {},
   "outputs": [],
   "source": [
    "# Import libraries\n",
    "import numpy as np\n",
    "import pandas as pd\n",
    "from obspy import read\n",
    "from datetime import datetime, timedelta\n",
    "import matplotlib.pyplot as plt\n",
    "import glob\n",
    "import os\n",
    "import re\n",
    "from tqdm import tqdm"
   ]
  },
  {
   "cell_type": "markdown",
   "metadata": {},
   "source": [
    "Start by configuring the notebook values..."
   ]
  },
  {
   "cell_type": "code",
   "execution_count": 597,
   "metadata": {},
   "outputs": [],
   "source": [
    "planet = \"lunar\"\n",
    "# planet = \"mars\"\n",
    "\n",
    "data_prefix = \"../data\"\n",
    "plot_prefix = \"../plots\"\n",
    "out_prefix = \"../out\""
   ]
  },
  {
   "cell_type": "markdown",
   "metadata": {},
   "source": [
    "## Load and preprocess input files\n",
    "\n",
    "### Label files\n",
    "\n",
    "Provide the actual paths for the chosen dataset"
   ]
  },
  {
   "cell_type": "code",
   "execution_count": 598,
   "metadata": {},
   "outputs": [],
   "source": [
    "if planet == \"lunar\":\n",
    "    catalog_directory = os.path.join(data_prefix, 'lunar/training/catalogs/')\n",
    "    catalog_file = catalog_directory + 'apollo12_catalog_GradeA_final.csv'\n",
    "elif planet == \"mars\": \n",
    "    catalog_directory = os.path.join(data_prefix, 'mars/training/catalogs/')\n",
    "    catalog_file = catalog_directory + 'Mars_InSight_training_catalog_final.csv'\n",
    "else:\n",
    "    raise RuntimeError(\"Don't know this planet\")"
   ]
  },
  {
   "cell_type": "markdown",
   "metadata": {},
   "source": [
    "Load and preprocess the label files"
   ]
  },
  {
   "cell_type": "code",
   "execution_count": 599,
   "metadata": {},
   "outputs": [
    {
     "name": "stdout",
     "output_type": "stream",
     "text": [
      "MQ type label dictionnary:\n",
      "{'impact_mq': 1, 'deep_mq': 2, 'shallow_mq': 3} \n",
      "\n",
      "Here are the label data tables:\n"
     ]
    },
    {
     "data": {
      "text/html": [
       "<div>\n",
       "<style scoped>\n",
       "    .dataframe tbody tr th:only-of-type {\n",
       "        vertical-align: middle;\n",
       "    }\n",
       "\n",
       "    .dataframe tbody tr th {\n",
       "        vertical-align: top;\n",
       "    }\n",
       "\n",
       "    .dataframe thead th {\n",
       "        text-align: right;\n",
       "    }\n",
       "</style>\n",
       "<table border=\"1\" class=\"dataframe\">\n",
       "  <thead>\n",
       "    <tr style=\"text-align: right;\">\n",
       "      <th></th>\n",
       "      <th>filename</th>\n",
       "      <th>time_rel(sec)</th>\n",
       "      <th>evid</th>\n",
       "      <th>mq_type</th>\n",
       "      <th>mq_type_id</th>\n",
       "    </tr>\n",
       "    <tr>\n",
       "      <th>datetime</th>\n",
       "      <th></th>\n",
       "      <th></th>\n",
       "      <th></th>\n",
       "      <th></th>\n",
       "      <th></th>\n",
       "    </tr>\n",
       "  </thead>\n",
       "  <tbody>\n",
       "    <tr>\n",
       "      <th>1970-01-19 20:25:00</th>\n",
       "      <td>xa.s12.00.mhz.1970-01-19HR00_evid00002</td>\n",
       "      <td>73500.0</td>\n",
       "      <td>evid00002</td>\n",
       "      <td>impact_mq</td>\n",
       "      <td>1</td>\n",
       "    </tr>\n",
       "    <tr>\n",
       "      <th>1970-03-25 03:32:00</th>\n",
       "      <td>xa.s12.00.mhz.1970-03-25HR00_evid00003</td>\n",
       "      <td>12720.0</td>\n",
       "      <td>evid00003</td>\n",
       "      <td>impact_mq</td>\n",
       "      <td>1</td>\n",
       "    </tr>\n",
       "    <tr>\n",
       "      <th>1970-03-26 20:17:00</th>\n",
       "      <td>xa.s12.00.mhz.1970-03-26HR00_evid00004</td>\n",
       "      <td>73020.0</td>\n",
       "      <td>evid00004</td>\n",
       "      <td>impact_mq</td>\n",
       "      <td>1</td>\n",
       "    </tr>\n",
       "    <tr>\n",
       "      <th>1970-04-25 01:14:00</th>\n",
       "      <td>xa.s12.00.mhz.1970-04-25HR00_evid00006</td>\n",
       "      <td>4440.0</td>\n",
       "      <td>evid00006</td>\n",
       "      <td>impact_mq</td>\n",
       "      <td>1</td>\n",
       "    </tr>\n",
       "    <tr>\n",
       "      <th>1970-04-26 14:29:00</th>\n",
       "      <td>xa.s12.00.mhz.1970-04-26HR00_evid00007</td>\n",
       "      <td>52140.0</td>\n",
       "      <td>evid00007</td>\n",
       "      <td>deep_mq</td>\n",
       "      <td>2</td>\n",
       "    </tr>\n",
       "    <tr>\n",
       "      <th>...</th>\n",
       "      <td>...</td>\n",
       "      <td>...</td>\n",
       "      <td>...</td>\n",
       "      <td>...</td>\n",
       "      <td>...</td>\n",
       "    </tr>\n",
       "    <tr>\n",
       "      <th>1974-10-14 17:43:00</th>\n",
       "      <td>xa.s12.00.mhz.1974-10-14HR00_evid00156</td>\n",
       "      <td>63780.0</td>\n",
       "      <td>evid00156</td>\n",
       "      <td>impact_mq</td>\n",
       "      <td>1</td>\n",
       "    </tr>\n",
       "    <tr>\n",
       "      <th>1975-04-12 18:15:00</th>\n",
       "      <td>xa.s12.00.mhz.1975-04-12HR00_evid00191</td>\n",
       "      <td>65700.0</td>\n",
       "      <td>evid00191</td>\n",
       "      <td>impact_mq</td>\n",
       "      <td>1</td>\n",
       "    </tr>\n",
       "    <tr>\n",
       "      <th>1975-05-04 10:05:00</th>\n",
       "      <td>xa.s12.00.mhz.1975-05-04HR00_evid00192</td>\n",
       "      <td>36300.0</td>\n",
       "      <td>evid00192</td>\n",
       "      <td>impact_mq</td>\n",
       "      <td>1</td>\n",
       "    </tr>\n",
       "    <tr>\n",
       "      <th>1975-06-24 16:03:00</th>\n",
       "      <td>xa.s12.00.mhz.1975-06-24HR00_evid00196</td>\n",
       "      <td>57780.0</td>\n",
       "      <td>evid00196</td>\n",
       "      <td>impact_mq</td>\n",
       "      <td>1</td>\n",
       "    </tr>\n",
       "    <tr>\n",
       "      <th>1975-06-26 03:24:00</th>\n",
       "      <td>xa.s12.00.mhz.1975-06-26HR00_evid00198</td>\n",
       "      <td>12240.0</td>\n",
       "      <td>evid00198</td>\n",
       "      <td>impact_mq</td>\n",
       "      <td>1</td>\n",
       "    </tr>\n",
       "  </tbody>\n",
       "</table>\n",
       "<p>76 rows × 5 columns</p>\n",
       "</div>"
      ],
      "text/plain": [
       "                                                   filename  time_rel(sec)  \\\n",
       "datetime                                                                     \n",
       "1970-01-19 20:25:00  xa.s12.00.mhz.1970-01-19HR00_evid00002        73500.0   \n",
       "1970-03-25 03:32:00  xa.s12.00.mhz.1970-03-25HR00_evid00003        12720.0   \n",
       "1970-03-26 20:17:00  xa.s12.00.mhz.1970-03-26HR00_evid00004        73020.0   \n",
       "1970-04-25 01:14:00  xa.s12.00.mhz.1970-04-25HR00_evid00006         4440.0   \n",
       "1970-04-26 14:29:00  xa.s12.00.mhz.1970-04-26HR00_evid00007        52140.0   \n",
       "...                                                     ...            ...   \n",
       "1974-10-14 17:43:00  xa.s12.00.mhz.1974-10-14HR00_evid00156        63780.0   \n",
       "1975-04-12 18:15:00  xa.s12.00.mhz.1975-04-12HR00_evid00191        65700.0   \n",
       "1975-05-04 10:05:00  xa.s12.00.mhz.1975-05-04HR00_evid00192        36300.0   \n",
       "1975-06-24 16:03:00  xa.s12.00.mhz.1975-06-24HR00_evid00196        57780.0   \n",
       "1975-06-26 03:24:00  xa.s12.00.mhz.1975-06-26HR00_evid00198        12240.0   \n",
       "\n",
       "                          evid    mq_type  mq_type_id  \n",
       "datetime                                               \n",
       "1970-01-19 20:25:00  evid00002  impact_mq           1  \n",
       "1970-03-25 03:32:00  evid00003  impact_mq           1  \n",
       "1970-03-26 20:17:00  evid00004  impact_mq           1  \n",
       "1970-04-25 01:14:00  evid00006  impact_mq           1  \n",
       "1970-04-26 14:29:00  evid00007    deep_mq           2  \n",
       "...                        ...        ...         ...  \n",
       "1974-10-14 17:43:00  evid00156  impact_mq           1  \n",
       "1975-04-12 18:15:00  evid00191  impact_mq           1  \n",
       "1975-05-04 10:05:00  evid00192  impact_mq           1  \n",
       "1975-06-24 16:03:00  evid00196  impact_mq           1  \n",
       "1975-06-26 03:24:00  evid00198  impact_mq           1  \n",
       "\n",
       "[76 rows x 5 columns]"
      ]
     },
     "execution_count": 599,
     "metadata": {},
     "output_type": "execute_result"
    }
   ],
   "source": [
    "\n",
    "labels = pd.read_csv(catalog_file, parse_dates=['time_abs(%Y-%m-%dT%H:%M:%S.%f)'])\n",
    "labels.rename(columns={\"time_abs(%Y-%m-%dT%H:%M:%S.%f)\":\"datetime\"}, inplace=True)\n",
    "labels.set_index(\"datetime\", inplace=True)\n",
    "\n",
    "# In the case of mars data, we don't have any mq_type so we deal with this exception\n",
    "try:\n",
    "    mq_type_dict = {l:i+1 for i,l in enumerate(labels[\"mq_type\"].unique())}\n",
    "    print(\"MQ type label dictionnary:\")\n",
    "    print(mq_type_dict, \"\\n\")\n",
    "    labels[\"mq_type_id\"] = labels[\"mq_type\"].map(mq_type_dict)\n",
    "except KeyError:\n",
    "    labels[\"mq_type_id\"] = 1\n",
    "\n",
    "\n",
    "print(\"Here are the label data tables:\")\n",
    "labels"
   ]
  },
  {
   "cell_type": "markdown",
   "metadata": {},
   "source": [
    "### Data files"
   ]
  },
  {
   "cell_type": "code",
   "execution_count": 600,
   "metadata": {},
   "outputs": [
    {
     "name": "stdout",
     "output_type": "stream",
     "text": [
      "..\\data\\lunar\\training\\data\n",
      "Available dates:\n",
      "['1970-01-19', '1970-03-25', '1970-03-26', '1970-04-25', '1970-04-26', '1970-06-15', '1970-06-26', '1970-07-20', '1970-07-20', '1970-09-26', '1970-10-24', '1970-11-12', '1970-12-11', '1970-12-27', '1970-12-31', '1971-01-15', '1971-01-28', '1971-01-29', '1971-02-09', '1971-03-25', '1971-04-13', '1971-04-17', '1971-05-12', '1971-05-12', '1971-05-13', '1971-05-23', '1971-06-12', '1971-09-25', '1971-10-18', '1971-10-20', '1971-10-31', '1971-11-14', '1972-01-04', '1972-03-12', '1972-05-11', '1972-06-16', '1972-07-17', '1972-07-17', '1972-07-28', '1972-07-31', '1972-12-02', '1972-12-03', '1973-01-18', '1973-01-31', '1973-03-01', '1973-03-13', '1973-03-24', '1973-05-14', '1973-06-05', '1973-06-05', '1973-06-18', '1973-06-27', '1973-07-03', '1973-07-04', '1973-07-20', '1973-07-28', '1973-07-29', '1973-08-21', '1974-01-10', '1974-02-07', '1974-02-12', '1974-03-25', '1974-04-08', '1974-04-19', '1974-04-26', '1974-04-27', '1974-06-25', '1974-07-06', '1974-07-06', '1974-07-11', '1974-07-17', '1974-10-14', '1975-04-12', '1975-05-04', '1975-06-24', '1975-06-26']\n",
      "76 elements\n"
     ]
    }
   ],
   "source": [
    "data_directory = os.path.normpath(os.path.join(data_prefix, planet,'training/data'))\n",
    "print(data_directory)\n",
    "files  =  glob.glob(data_directory+\"/**/*.csv\", recursive=True)\n",
    "dates = [re.search(\"\\d{4}-\\d{2}-\\d{2}\", file)[0] for file in files]\n",
    "\n",
    "print(\"Available dates:\")\n",
    "print(dates)\n",
    "print(f\"{len(dates)} elements\")"
   ]
  },
  {
   "cell_type": "code",
   "execution_count": 601,
   "metadata": {},
   "outputs": [],
   "source": [
    "def load_data(file, planet):\n",
    "    date_col_dict = {\"lunar\": \"time_abs(%Y-%m-%dT%H:%M:%S.%f)\", \n",
    "                     \"mars\": \"time(%Y-%m-%dT%H:%M:%S.%f)\"}\n",
    "    \n",
    "    vel_col_dict = {\"lunar\": \"velocity(m/s)\", \n",
    "                     \"mars\": \"velocity(c/s)\"}\n",
    "    \n",
    "    data = pd.read_csv(file, parse_dates=[date_col_dict[planet]])\n",
    "    data.rename(columns={date_col_dict[planet]:\"datetime\"}, inplace=True)\n",
    "    data.rename(columns={vel_col_dict[planet]:\"velocity\"}, inplace=True)\n",
    "    data.set_index(\"datetime\", inplace=True)\n",
    "    mask = (labels.index > data.index[0]) & (labels.index <= data.index[-1])\n",
    "    data = data.join(labels.loc[mask, \"mq_type_id\"], how=\"outer\")\n",
    "\n",
    "    return data.loc[:, [\"velocity\", \"mq_type_id\"]]"
   ]
  },
  {
   "cell_type": "markdown",
   "metadata": {},
   "source": [
    "## Packing and unpacking\n",
    "### Export all dataframes to a parquet file\n",
    "\n",
    "We chose Parquet for its storage efficiency and the speed at which we can read these files in the web app"
   ]
  },
  {
   "cell_type": "code",
   "execution_count": 602,
   "metadata": {},
   "outputs": [],
   "source": [
    "# out_path = os.path.join(out_prefix, planet)\n",
    "# os.makedirs(out_path, exist_ok=True)\n",
    "\n",
    "# for file in (pbar := tqdm(files)):\n",
    "#     sample_name = os.path.split(file)[1] \n",
    "\n",
    "#     data = load_data(file, planet)\n",
    "\n",
    "#     out_file = os.path.split(file.replace(data_prefix, out_prefix).replace(\".csv\", \".parquet\"))[1]\n",
    "#     pbar.set_description(f\"Writing {out_file}\")   \n",
    "#     data.to_parquet(os.path.join(out_path, out_file))\n",
    "    "
   ]
  },
  {
   "cell_type": "markdown",
   "metadata": {},
   "source": [
    "### Load all data files\n",
    "\n",
    "This provides an example on how to read data, but also to emasure the read speed efficiency"
   ]
  },
  {
   "cell_type": "code",
   "execution_count": 603,
   "metadata": {},
   "outputs": [],
   "source": [
    "# for file in (pbar := tqdm(files, unit=\"files\")):\n",
    "    \n",
    "#     out_file = os.path.split(file.replace(data_prefix, out_prefix).replace(\".csv\", \".parquet\"))[1]\n",
    "#     pd.read_parquet(os.path.join(out_path, out_file))"
   ]
  },
  {
   "cell_type": "code",
   "execution_count": 604,
   "metadata": {},
   "outputs": [],
   "source": [
    "# file = \"../out/lunar/xa.s12.00.mhz.1970-09-26HR00_evid00013.parquet\"\n",
    "# data = pd.read_parquet(file)\n",
    "# data.describe()\n"
   ]
  },
  {
   "cell_type": "markdown",
   "metadata": {},
   "source": [
    "... This is exactly the same data we had before packing/unpacking"
   ]
  },
  {
   "cell_type": "markdown",
   "metadata": {},
   "source": [
    "## Diaplay:\n",
    "\n",
    "Provide plots similar to those given with the dataset.\n",
    "\n",
    "Small difference: we color-code the type of event.. just in case this proves to be useful."
   ]
  },
  {
   "cell_type": "code",
   "execution_count": 605,
   "metadata": {},
   "outputs": [],
   "source": [
    "# plot_path = os.path.join(plot_prefix, planet)\n",
    "# os.makedirs(plot_path, exist_ok=True)\n",
    "\n",
    "# c_dict = {1:\"red\", \n",
    "#           2:\"orange\",\n",
    "#           3:\"black\"}\n",
    "\n",
    "# for file in tqdm(files, unit=\"files\"):\n",
    "#     sample_name = os.path.split(file)[1] \n",
    "\n",
    "#     data = load_data(file, planet)\n",
    "\n",
    "#     fig, ax = plt.subplots(figsize=(16, 5))\n",
    "\n",
    "#     data[\"quakes\"] = data[\"velocity\"].max()*data[\"mq_type_id\"]\n",
    "\n",
    "#     data.plot(y=[\"velocity\"], ax=ax, ylabel=\"Velocity\", title=os.path.splitext(sample_name)[0])\n",
    "\n",
    "#     qtimes = data[\"mq_type_id\"].dropna().index\n",
    "#     qtypes = data[\"mq_type_id\"].dropna().values\n",
    "#     for qtime, qtype in zip(qtimes, qtypes):\n",
    "#         ax.axvline(x=qtime, c=c_dict[qtype])\n",
    "\n",
    "#     plot_file = os.path.split(file.replace(data_prefix, plot_prefix).replace(\".csv\", \".png\"))[1]    \n",
    "#     fig.savefig(os.path.join(plot_path, plot_file), bbox_inches=\"tight\")\n",
    "#     plt.close(fig)"
   ]
  },
  {
   "cell_type": "markdown",
   "metadata": {},
   "source": [
    "## Example of a filtering function\n",
    "\n",
    "We provide here an exemplementation of a preprocessing / cleaning function, in order to implement in the web app backend.\n",
    "\n",
    "These function expect a dataframe as those that can be read with the parquet files provided by this very notebook\n",
    "\n",
    "The general pattern is \n",
    "\n",
    "```python\n",
    "def clean_B(data, params):\n",
    "\n",
    "    # Do stuff with data, with parameters in the dict param\n",
    "\n",
    "    return data\n",
    "\n",
    "```"
   ]
  },
  {
   "cell_type": "code",
   "execution_count": 606,
   "metadata": {},
   "outputs": [],
   "source": [
    "# Util function\n",
    "\n",
    "def calc_sampling_freq(df):\n",
    "    t_s = df[\"velocity\"].index.diff().median().total_seconds()\n",
    "\n",
    "    return 1/t_s"
   ]
  },
  {
   "cell_type": "code",
   "execution_count": 607,
   "metadata": {},
   "outputs": [],
   "source": [
    "from scipy.signal import butter, lfilter, filtfilt\n",
    "\n",
    "def bandpass_filter(dataframe, **kwargs):\n",
    "    \n",
    "    fs = calc_sampling_freq(dataframe)\n",
    "\n",
    "    b, a = butter(kwargs[\"order\"], [kwargs[\"f_lo\"], kwargs[\"f_hi\"]], fs=fs, btype='band')\n",
    "\n",
    "    data_out = dataframe.copy()\n",
    "    data_out[\"velocity\"] = lfilter(b, a, dataframe[\"velocity\"])\n",
    "\n",
    "    return data_out"
   ]
  },
  {
   "cell_type": "code",
   "execution_count": 608,
   "metadata": {},
   "outputs": [],
   "source": [
    "from scipy.signal import find_peaks\n",
    "\n",
    "def remove_peaks(dataframe, **kwargs):\n",
    "\n",
    "\n",
    "    freq = calc_sampling_freq(dataframe)\n",
    "    \n",
    "    dataframe_max = max(dataframe[\"velocity\"])\n",
    "    dataframe_min = min(dataframe[\"velocity\"])\n",
    "\n",
    "    abs_max = max(dataframe_max, abs(dataframe_min))\n",
    "\n",
    "    wlen = kwargs[\"prominence_valley_time\"] * freq # prominence_valley_time [s] * freq [samples/sec]\n",
    "\n",
    "    peaks, props = find_peaks(abs(dataframe[\"velocity\"]),\n",
    "                            width=[kwargs[\"width_time_min\"]*freq, kwargs[\"width_time_max\"]*freq],\n",
    "                            distance=kwargs[\"distance_time\"]*freq,\n",
    "                            prominence=kwargs[\"prominence_percent\"]/100*abs_max,\n",
    "                            wlen=wlen)\n",
    "    \n",
    "    data_out = dataframe.copy()\n",
    "    for peak in peaks:\n",
    "        data_out.iloc[peak-200:peak+200] = 0\n",
    "\n",
    "    return data_out"
   ]
  },
  {
   "cell_type": "code",
   "execution_count": 609,
   "metadata": {},
   "outputs": [],
   "source": [
    "from obspy.signal.filter import lowpass\n",
    "\n",
    "def lowpass_filter(dataframe, **kwargs):\n",
    "    data_out = dataframe.copy()\n",
    "\n",
    "    freq = calc_sampling_freq(dataframe)\n",
    "\n",
    "    data_out[\"velocity\"] = lowpass(dataframe[\"velocity\"], kwargs[\"frequency\"], freq, kwargs[\"filter_order\"], kwargs[\"zerophase\"])\n",
    "\n",
    "    return data_out\n"
   ]
  },
  {
   "cell_type": "code",
   "execution_count": 610,
   "metadata": {},
   "outputs": [
    {
     "data": {
      "text/html": [
       "<div>\n",
       "<style scoped>\n",
       "    .dataframe tbody tr th:only-of-type {\n",
       "        vertical-align: middle;\n",
       "    }\n",
       "\n",
       "    .dataframe tbody tr th {\n",
       "        vertical-align: top;\n",
       "    }\n",
       "\n",
       "    .dataframe thead th {\n",
       "        text-align: right;\n",
       "    }\n",
       "</style>\n",
       "<table border=\"1\" class=\"dataframe\">\n",
       "  <thead>\n",
       "    <tr style=\"text-align: right;\">\n",
       "      <th></th>\n",
       "      <th>velocity</th>\n",
       "      <th>mq_type_id</th>\n",
       "    </tr>\n",
       "  </thead>\n",
       "  <tbody>\n",
       "    <tr>\n",
       "      <th>count</th>\n",
       "      <td>5.724230e+05</td>\n",
       "      <td>1.0</td>\n",
       "    </tr>\n",
       "    <tr>\n",
       "      <th>mean</th>\n",
       "      <td>-4.878679e-13</td>\n",
       "      <td>1.0</td>\n",
       "    </tr>\n",
       "    <tr>\n",
       "      <th>std</th>\n",
       "      <td>2.773968e-10</td>\n",
       "      <td>NaN</td>\n",
       "    </tr>\n",
       "    <tr>\n",
       "      <th>min</th>\n",
       "      <td>-4.711333e-09</td>\n",
       "      <td>1.0</td>\n",
       "    </tr>\n",
       "    <tr>\n",
       "      <th>25%</th>\n",
       "      <td>-1.240515e-10</td>\n",
       "      <td>1.0</td>\n",
       "    </tr>\n",
       "    <tr>\n",
       "      <th>50%</th>\n",
       "      <td>-4.036001e-13</td>\n",
       "      <td>1.0</td>\n",
       "    </tr>\n",
       "    <tr>\n",
       "      <th>75%</th>\n",
       "      <td>1.144970e-10</td>\n",
       "      <td>1.0</td>\n",
       "    </tr>\n",
       "    <tr>\n",
       "      <th>max</th>\n",
       "      <td>4.496015e-09</td>\n",
       "      <td>1.0</td>\n",
       "    </tr>\n",
       "  </tbody>\n",
       "</table>\n",
       "</div>"
      ],
      "text/plain": [
       "           velocity  mq_type_id\n",
       "count  5.724230e+05         1.0\n",
       "mean  -4.878679e-13         1.0\n",
       "std    2.773968e-10         NaN\n",
       "min   -4.711333e-09         1.0\n",
       "25%   -1.240515e-10         1.0\n",
       "50%   -4.036001e-13         1.0\n",
       "75%    1.144970e-10         1.0\n",
       "max    4.496015e-09         1.0"
      ]
     },
     "execution_count": 610,
     "metadata": {},
     "output_type": "execute_result"
    }
   ],
   "source": [
    "from obspy.signal.filter import  highpass\n",
    "\n",
    "def highpass_filter(dataframe, **kwargs):\n",
    "    data_out = dataframe.copy()\n",
    "\n",
    "    freq = calc_sampling_freq(dataframe)\n",
    "\n",
    "    data_out[\"velocity\"] = highpass(data_out, kwargs[\"frequency\"], freq, kwargs[\"filter_order\"], kwargs[\"zerophase\"])\n",
    "\n",
    "    return data_out\n",
    "file = \"../out/lunar/xa.s12.00.mhz.1970-09-26HR00_evid00013.parquet\"\n",
    "data = pd.read_parquet(file)\n",
    "data.describe()\n"
   ]
  },
  {
   "cell_type": "markdown",
   "metadata": {},
   "source": [
    "## TESTING AREA"
   ]
  },
  {
   "cell_type": "code",
   "execution_count": 611,
   "metadata": {},
   "outputs": [
    {
     "data": {
      "text/html": [
       "<div>\n",
       "<style scoped>\n",
       "    .dataframe tbody tr th:only-of-type {\n",
       "        vertical-align: middle;\n",
       "    }\n",
       "\n",
       "    .dataframe tbody tr th {\n",
       "        vertical-align: top;\n",
       "    }\n",
       "\n",
       "    .dataframe thead th {\n",
       "        text-align: right;\n",
       "    }\n",
       "</style>\n",
       "<table border=\"1\" class=\"dataframe\">\n",
       "  <thead>\n",
       "    <tr style=\"text-align: right;\">\n",
       "      <th></th>\n",
       "      <th>velocity</th>\n",
       "      <th>mq_type_id</th>\n",
       "    </tr>\n",
       "  </thead>\n",
       "  <tbody>\n",
       "    <tr>\n",
       "      <th>count</th>\n",
       "      <td>5.723990e+05</td>\n",
       "      <td>1.0</td>\n",
       "    </tr>\n",
       "    <tr>\n",
       "      <th>mean</th>\n",
       "      <td>4.843666e-13</td>\n",
       "      <td>1.0</td>\n",
       "    </tr>\n",
       "    <tr>\n",
       "      <th>std</th>\n",
       "      <td>4.202108e-10</td>\n",
       "      <td>NaN</td>\n",
       "    </tr>\n",
       "    <tr>\n",
       "      <th>min</th>\n",
       "      <td>-1.398869e-08</td>\n",
       "      <td>1.0</td>\n",
       "    </tr>\n",
       "    <tr>\n",
       "      <th>25%</th>\n",
       "      <td>-7.047830e-13</td>\n",
       "      <td>1.0</td>\n",
       "    </tr>\n",
       "    <tr>\n",
       "      <th>50%</th>\n",
       "      <td>-3.270634e-17</td>\n",
       "      <td>1.0</td>\n",
       "    </tr>\n",
       "    <tr>\n",
       "      <th>75%</th>\n",
       "      <td>7.102691e-13</td>\n",
       "      <td>1.0</td>\n",
       "    </tr>\n",
       "    <tr>\n",
       "      <th>max</th>\n",
       "      <td>1.441255e-08</td>\n",
       "      <td>1.0</td>\n",
       "    </tr>\n",
       "  </tbody>\n",
       "</table>\n",
       "</div>"
      ],
      "text/plain": [
       "           velocity  mq_type_id\n",
       "count  5.723990e+05         1.0\n",
       "mean   4.843666e-13         1.0\n",
       "std    4.202108e-10         NaN\n",
       "min   -1.398869e-08         1.0\n",
       "25%   -7.047830e-13         1.0\n",
       "50%   -3.270634e-17         1.0\n",
       "75%    7.102691e-13         1.0\n",
       "max    1.441255e-08         1.0"
      ]
     },
     "execution_count": 611,
     "metadata": {},
     "output_type": "execute_result"
    }
   ],
   "source": [
    "file = \"../out/lunar/xa.s12.00.mhz.1972-05-11HR00_evid00055.parquet\"\n",
    "data = pd.read_parquet(file)\n",
    "data.describe()"
   ]
  },
  {
   "cell_type": "code",
   "execution_count": 612,
   "metadata": {},
   "outputs": [],
   "source": [
    "freq = calc_sampling_freq(data)\n",
    "\n",
    "kwargs = {\"f_lo\":0.1, \"f_hi\":freq/2.1, \"order\":4}\n",
    "kwargs_2 = {\"prominence_percent\":60, \"prominence_valley_time\":15, \"distance_time\":1, \"width_time_min\":0, \"width_time_max\": 15}\n",
    "\n",
    "data_f = remove_peaks(data, **kwargs_2)\n",
    "# data_f = bandpass_filter(data, **kwargs)\n",
    "\n"
   ]
  },
  {
   "cell_type": "code",
   "execution_count": 613,
   "metadata": {},
   "outputs": [
    {
     "data": {
      "image/png": "[encoded data removed]",
      "text/plain": [
       "<Figure size 1600x500 with 3 Axes>"
      ]
     },
     "metadata": {},
     "output_type": "display_data"
    }
   ],
   "source": [
    "fig= plt.figure(figsize=(16, 5))\n",
    "\n",
    "plt.title(\"Visualizing the pre-processing step\")\n",
    "plt.xlabel(\"Time of the day\")\n",
    "plt.ylabel(\"Velocity (m/s)\")\n",
    "\n",
    "min_value = min(data.velocity)\n",
    "max_value = max(data.velocity)\n",
    "\n",
    "ax = plt.subplot(2, 1, 1)\n",
    "ax.plot(data.velocity)\n",
    "ax.set_ylim([min_value*1.2, max(data.velocity)*1.2])\n",
    "\n",
    "ax2 = plt.subplot(2, 1, 2)\n",
    "ax2.plot(data_f.velocity)\n",
    "ax2.set_ylim([min_value*1.2, max(data.velocity)*1.2])\n",
    "\n",
    "\n",
    "plt.show()"
   ]
  },
  {
   "cell_type": "markdown",
   "metadata": {},
   "source": [
    "## Peak detection\n"
   ]
  },
  {
   "cell_type": "code",
   "execution_count": 614,
   "metadata": {},
   "outputs": [],
   "source": [
    "from scipy.signal import find_peaks\n",
    "\n",
    "def peak_detection(dataframe, **kwargs):\n",
    "\n",
    "    freq = calc_sampling_freq(dataframe)\n",
    "\n",
    "    abs_data_power = dataframe.copy()\n",
    "    abs_data_power[\"velocity\"] = abs(dataframe[\"velocity\"])**2\n",
    "\n",
    "    abs_max = abs_data_power[\"velocity\"].max()\n",
    "\n",
    "    threshold = kwargs[\"peak_detection_threshold\"]  * abs_max\n",
    "\n",
    "    peaks, props = find_peaks(abs_data_power[\"velocity\"], prominence=threshold)\n",
    "\n",
    "    first_peak = 0\n",
    "    last_peak_range = 0\n",
    "    last_peak = 0\n",
    "    max_peak_length = 5000 * freq    # Arbitrary value\n",
    "    start_peaks = []\n",
    "\n",
    "    # Extract only start of detected seismic activity\n",
    "    for peak in peaks:\n",
    "        if first_peak == 0:\n",
    "            start_peaks.append(peak)\n",
    "            last_peak = peak\n",
    "            first_peak = 1\n",
    "        else:\n",
    "            last_peak_range = peak - last_peak\n",
    "            \n",
    "            if last_peak_range >= max_peak_length:\n",
    "                start_peaks.append(peak)\n",
    "                last_peak = peak\n",
    "            else:\n",
    "                continue\n",
    "\n",
    "    return start_peaks\n"
   ]
  },
  {
   "cell_type": "code",
   "execution_count": 615,
   "metadata": {},
   "outputs": [
    {
     "data": {
      "text/plain": [
       "[324948]"
      ]
     },
     "execution_count": 615,
     "metadata": {},
     "output_type": "execute_result"
    }
   ],
   "source": [
    "kwargs_detection = {\"peak_detection_threshold\":0.1} # Low threshold since the signal used is the square of the signal to make high amplitude stand out\n",
    "\n",
    "peaks = peak_detection(data_f, **kwargs_detection)\n",
    "\n",
    "peaks\n"
   ]
  },
  {
   "cell_type": "code",
   "execution_count": 616,
   "metadata": {},
   "outputs": [
    {
     "data": {
      "text/plain": [
       "DatetimeIndex(['1972-05-11 13:37:29.179774'], dtype='datetime64[ns]', name='datetime', freq=None)"
      ]
     },
     "execution_count": 616,
     "metadata": {},
     "output_type": "execute_result"
    }
   ],
   "source": [
    "from numpy import zeros\n",
    "\n",
    "peaks_timestamp = data.iloc[peaks].index\n",
    "peaks_y = data_f[\"velocity\"].iloc[peaks]\n",
    "peaks_timestamp"
   ]
  },
  {
   "cell_type": "code",
   "execution_count": 617,
   "metadata": {},
   "outputs": [
    {
     "data": {
      "text/plain": [
       "[<matplotlib.lines.Line2D at 0x195e5851250>]"
      ]
     },
     "execution_count": 617,
     "metadata": {},
     "output_type": "execute_result"
    },
    {
     "data": {
      "image/png": "[encoded data removed]",
      "text/plain": [
       "<Figure size 1600x400 with 1 Axes>"
      ]
     },
     "metadata": {},
     "output_type": "display_data"
    }
   ],
   "source": [
    "fig = plt.figure(figsize=(16, 4))\n",
    "\n",
    "power_data = data_f.copy()\n",
    "power_data[\"velocity\"] = abs(data_f[\"velocity\"])**2\n",
    "peaks_power_timestamp = power_data.iloc[peaks].index\n",
    "\n",
    "plt.plot(power_data.velocity)\n",
    "plt.plot(peaks_timestamp, zeros(peaks_timestamp.size), '.')\n",
    "\n"
   ]
  },
  {
   "cell_type": "code",
   "execution_count": 618,
   "metadata": {},
   "outputs": [],
   "source": [
    "def find_closest_peaks(peaks, range):\n",
    "    peaks.add"
   ]
  },
  {
   "cell_type": "code",
   "execution_count": 619,
   "metadata": {},
   "outputs": [
    {
     "data": {
      "image/png": "[encoded data removed]",
      "text/plain": [
       "<Figure size 1600x1000 with 2 Axes>"
      ]
     },
     "metadata": {},
     "output_type": "display_data"
    }
   ],
   "source": [
    "\n",
    "fig= plt.figure(figsize=(16, 10))\n",
    "\n",
    "min_value = min(data.velocity)\n",
    "max_value = max(data.velocity)\n",
    "\n",
    "ax = plt.subplot(2, 1, 1)\n",
    "ax.title.set_text(\"Raw data\")\n",
    "ax.plot(data.velocity)\n",
    "ax.set_ylim([min_value*1.2, max(data.velocity)*1.2])\n",
    "ax.set_xlabel(\"Time of the day\")\n",
    "ax.set_ylabel(\"Velocity (m/s)\")\n",
    "\n",
    "ax2 = plt.subplot(2, 1, 2)\n",
    "ax2.title.set_text(\"Processed data with seismic activity identification\")\n",
    "ax2.plot(data_f.velocity)\n",
    "ax2.set_ylim([min_value*1.2, max(data.velocity)*1.2])\n",
    "ax2.set_xlabel(\"Time of the day\")\n",
    "ax2.set_ylabel(\"Velocity (m/s)\")\n",
    "for peak in peaks_timestamp:\n",
    "    ax2.axvline(peak, color='r')\n",
    "\n",
    "# ax2 = plt.subplot(2, 1, 2)\n",
    "# ax2.plot(data_f.velocity)\n",
    "# ax2.set_ylim([min_value*1.2, max(data.velocity)*1.2])"
   ]
  },
  {
   "cell_type": "code",
   "execution_count": null,
   "metadata": {},
   "outputs": [],
   "source": []
  }
 ],
 "metadata": {
  "kernelspec": {
   "display_name": "space-apps-2024",
   "language": "python",
   "name": "python3"
  },
  "language_info": {
   "codemirror_mode": {
    "name": "ipython",
    "version": 3
   },
   "file_extension": ".py",
   "mimetype": "text/x-python",
   "name": "python",
   "nbconvert_exporter": "python",
   "pygments_lexer": "ipython3",
   "version": "3.11.0"
  }
 },
 "nbformat": 4,
 "nbformat_minor": 2
}
